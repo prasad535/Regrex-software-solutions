{
 "cells": [
  {
   "cell_type": "markdown",
   "metadata": {},
   "source": [
    "## Import required libraries "
   ]
  },
  {
   "cell_type": "code",
   "execution_count": 72,
   "metadata": {},
   "outputs": [],
   "source": [
    "import pandas as pd\n",
    "import numpy as np\n",
    "import matplotlib.pyplot as plt\n",
    "import seaborn as sns\n",
    "%matplotlib inline"
   ]
  },
  {
   "cell_type": "markdown",
   "metadata": {},
   "source": [
    "## Import Data"
   ]
  },
  {
   "cell_type": "code",
   "execution_count": 73,
   "metadata": {},
   "outputs": [
    {
     "data": {
      "text/html": [
       "<div>\n",
       "<style scoped>\n",
       "    .dataframe tbody tr th:only-of-type {\n",
       "        vertical-align: middle;\n",
       "    }\n",
       "\n",
       "    .dataframe tbody tr th {\n",
       "        vertical-align: top;\n",
       "    }\n",
       "\n",
       "    .dataframe thead th {\n",
       "        text-align: right;\n",
       "    }\n",
       "</style>\n",
       "<table border=\"1\" class=\"dataframe\">\n",
       "  <thead>\n",
       "    <tr style=\"text-align: right;\">\n",
       "      <th></th>\n",
       "      <th>age</th>\n",
       "      <th>sex</th>\n",
       "      <th>cp</th>\n",
       "      <th>trestbps</th>\n",
       "      <th>chol</th>\n",
       "      <th>fbs</th>\n",
       "      <th>restecg</th>\n",
       "      <th>thalach</th>\n",
       "      <th>exang</th>\n",
       "      <th>oldpeak</th>\n",
       "      <th>slope</th>\n",
       "      <th>ca</th>\n",
       "      <th>thal</th>\n",
       "      <th>target</th>\n",
       "    </tr>\n",
       "  </thead>\n",
       "  <tbody>\n",
       "    <tr>\n",
       "      <th>0</th>\n",
       "      <td>52</td>\n",
       "      <td>1</td>\n",
       "      <td>0</td>\n",
       "      <td>125</td>\n",
       "      <td>212</td>\n",
       "      <td>0</td>\n",
       "      <td>1</td>\n",
       "      <td>168</td>\n",
       "      <td>0</td>\n",
       "      <td>1.0</td>\n",
       "      <td>2</td>\n",
       "      <td>2</td>\n",
       "      <td>3</td>\n",
       "      <td>0</td>\n",
       "    </tr>\n",
       "    <tr>\n",
       "      <th>1</th>\n",
       "      <td>53</td>\n",
       "      <td>1</td>\n",
       "      <td>0</td>\n",
       "      <td>140</td>\n",
       "      <td>203</td>\n",
       "      <td>1</td>\n",
       "      <td>0</td>\n",
       "      <td>155</td>\n",
       "      <td>1</td>\n",
       "      <td>3.1</td>\n",
       "      <td>0</td>\n",
       "      <td>0</td>\n",
       "      <td>3</td>\n",
       "      <td>0</td>\n",
       "    </tr>\n",
       "    <tr>\n",
       "      <th>2</th>\n",
       "      <td>70</td>\n",
       "      <td>1</td>\n",
       "      <td>0</td>\n",
       "      <td>145</td>\n",
       "      <td>174</td>\n",
       "      <td>0</td>\n",
       "      <td>1</td>\n",
       "      <td>125</td>\n",
       "      <td>1</td>\n",
       "      <td>2.6</td>\n",
       "      <td>0</td>\n",
       "      <td>0</td>\n",
       "      <td>3</td>\n",
       "      <td>0</td>\n",
       "    </tr>\n",
       "    <tr>\n",
       "      <th>3</th>\n",
       "      <td>61</td>\n",
       "      <td>1</td>\n",
       "      <td>0</td>\n",
       "      <td>148</td>\n",
       "      <td>203</td>\n",
       "      <td>0</td>\n",
       "      <td>1</td>\n",
       "      <td>161</td>\n",
       "      <td>0</td>\n",
       "      <td>0.0</td>\n",
       "      <td>2</td>\n",
       "      <td>1</td>\n",
       "      <td>3</td>\n",
       "      <td>0</td>\n",
       "    </tr>\n",
       "    <tr>\n",
       "      <th>4</th>\n",
       "      <td>62</td>\n",
       "      <td>0</td>\n",
       "      <td>0</td>\n",
       "      <td>138</td>\n",
       "      <td>294</td>\n",
       "      <td>1</td>\n",
       "      <td>1</td>\n",
       "      <td>106</td>\n",
       "      <td>0</td>\n",
       "      <td>1.9</td>\n",
       "      <td>1</td>\n",
       "      <td>3</td>\n",
       "      <td>2</td>\n",
       "      <td>0</td>\n",
       "    </tr>\n",
       "  </tbody>\n",
       "</table>\n",
       "</div>"
      ],
      "text/plain": [
       "   age  sex  cp  trestbps  chol  fbs  restecg  thalach  exang  oldpeak  slope  \\\n",
       "0   52    1   0       125   212    0        1      168      0      1.0      2   \n",
       "1   53    1   0       140   203    1        0      155      1      3.1      0   \n",
       "2   70    1   0       145   174    0        1      125      1      2.6      0   \n",
       "3   61    1   0       148   203    0        1      161      0      0.0      2   \n",
       "4   62    0   0       138   294    1        1      106      0      1.9      1   \n",
       "\n",
       "   ca  thal  target  \n",
       "0   2     3       0  \n",
       "1   0     3       0  \n",
       "2   0     3       0  \n",
       "3   1     3       0  \n",
       "4   3     2       0  "
      ]
     },
     "execution_count": 73,
     "metadata": {},
     "output_type": "execute_result"
    }
   ],
   "source": [
    "# Read csv file \n",
    "df = pd.read_csv('heart.csv')\n",
    "df.head()\n"
   ]
  },
  {
   "cell_type": "code",
   "execution_count": 74,
   "metadata": {},
   "outputs": [
    {
     "data": {
      "text/html": [
       "<div>\n",
       "<style scoped>\n",
       "    .dataframe tbody tr th:only-of-type {\n",
       "        vertical-align: middle;\n",
       "    }\n",
       "\n",
       "    .dataframe tbody tr th {\n",
       "        vertical-align: top;\n",
       "    }\n",
       "\n",
       "    .dataframe thead th {\n",
       "        text-align: right;\n",
       "    }\n",
       "</style>\n",
       "<table border=\"1\" class=\"dataframe\">\n",
       "  <thead>\n",
       "    <tr style=\"text-align: right;\">\n",
       "      <th></th>\n",
       "      <th>age</th>\n",
       "      <th>sex</th>\n",
       "      <th>cp</th>\n",
       "      <th>trestbps</th>\n",
       "      <th>chol</th>\n",
       "      <th>fbs</th>\n",
       "      <th>restecg</th>\n",
       "      <th>thalach</th>\n",
       "      <th>exang</th>\n",
       "      <th>oldpeak</th>\n",
       "      <th>slope</th>\n",
       "      <th>ca</th>\n",
       "      <th>thal</th>\n",
       "      <th>target</th>\n",
       "    </tr>\n",
       "  </thead>\n",
       "  <tbody>\n",
       "    <tr>\n",
       "      <th>count</th>\n",
       "      <td>1025.000000</td>\n",
       "      <td>1025.000000</td>\n",
       "      <td>1025.000000</td>\n",
       "      <td>1025.000000</td>\n",
       "      <td>1025.00000</td>\n",
       "      <td>1025.000000</td>\n",
       "      <td>1025.000000</td>\n",
       "      <td>1025.000000</td>\n",
       "      <td>1025.000000</td>\n",
       "      <td>1025.000000</td>\n",
       "      <td>1025.000000</td>\n",
       "      <td>1025.000000</td>\n",
       "      <td>1025.000000</td>\n",
       "      <td>1025.000000</td>\n",
       "    </tr>\n",
       "    <tr>\n",
       "      <th>mean</th>\n",
       "      <td>54.434146</td>\n",
       "      <td>0.695610</td>\n",
       "      <td>0.942439</td>\n",
       "      <td>131.611707</td>\n",
       "      <td>246.00000</td>\n",
       "      <td>0.149268</td>\n",
       "      <td>0.529756</td>\n",
       "      <td>149.114146</td>\n",
       "      <td>0.336585</td>\n",
       "      <td>1.071512</td>\n",
       "      <td>1.385366</td>\n",
       "      <td>0.754146</td>\n",
       "      <td>2.323902</td>\n",
       "      <td>0.513171</td>\n",
       "    </tr>\n",
       "    <tr>\n",
       "      <th>std</th>\n",
       "      <td>9.072290</td>\n",
       "      <td>0.460373</td>\n",
       "      <td>1.029641</td>\n",
       "      <td>17.516718</td>\n",
       "      <td>51.59251</td>\n",
       "      <td>0.356527</td>\n",
       "      <td>0.527878</td>\n",
       "      <td>23.005724</td>\n",
       "      <td>0.472772</td>\n",
       "      <td>1.175053</td>\n",
       "      <td>0.617755</td>\n",
       "      <td>1.030798</td>\n",
       "      <td>0.620660</td>\n",
       "      <td>0.500070</td>\n",
       "    </tr>\n",
       "    <tr>\n",
       "      <th>min</th>\n",
       "      <td>29.000000</td>\n",
       "      <td>0.000000</td>\n",
       "      <td>0.000000</td>\n",
       "      <td>94.000000</td>\n",
       "      <td>126.00000</td>\n",
       "      <td>0.000000</td>\n",
       "      <td>0.000000</td>\n",
       "      <td>71.000000</td>\n",
       "      <td>0.000000</td>\n",
       "      <td>0.000000</td>\n",
       "      <td>0.000000</td>\n",
       "      <td>0.000000</td>\n",
       "      <td>0.000000</td>\n",
       "      <td>0.000000</td>\n",
       "    </tr>\n",
       "    <tr>\n",
       "      <th>25%</th>\n",
       "      <td>48.000000</td>\n",
       "      <td>0.000000</td>\n",
       "      <td>0.000000</td>\n",
       "      <td>120.000000</td>\n",
       "      <td>211.00000</td>\n",
       "      <td>0.000000</td>\n",
       "      <td>0.000000</td>\n",
       "      <td>132.000000</td>\n",
       "      <td>0.000000</td>\n",
       "      <td>0.000000</td>\n",
       "      <td>1.000000</td>\n",
       "      <td>0.000000</td>\n",
       "      <td>2.000000</td>\n",
       "      <td>0.000000</td>\n",
       "    </tr>\n",
       "    <tr>\n",
       "      <th>50%</th>\n",
       "      <td>56.000000</td>\n",
       "      <td>1.000000</td>\n",
       "      <td>1.000000</td>\n",
       "      <td>130.000000</td>\n",
       "      <td>240.00000</td>\n",
       "      <td>0.000000</td>\n",
       "      <td>1.000000</td>\n",
       "      <td>152.000000</td>\n",
       "      <td>0.000000</td>\n",
       "      <td>0.800000</td>\n",
       "      <td>1.000000</td>\n",
       "      <td>0.000000</td>\n",
       "      <td>2.000000</td>\n",
       "      <td>1.000000</td>\n",
       "    </tr>\n",
       "    <tr>\n",
       "      <th>75%</th>\n",
       "      <td>61.000000</td>\n",
       "      <td>1.000000</td>\n",
       "      <td>2.000000</td>\n",
       "      <td>140.000000</td>\n",
       "      <td>275.00000</td>\n",
       "      <td>0.000000</td>\n",
       "      <td>1.000000</td>\n",
       "      <td>166.000000</td>\n",
       "      <td>1.000000</td>\n",
       "      <td>1.800000</td>\n",
       "      <td>2.000000</td>\n",
       "      <td>1.000000</td>\n",
       "      <td>3.000000</td>\n",
       "      <td>1.000000</td>\n",
       "    </tr>\n",
       "    <tr>\n",
       "      <th>max</th>\n",
       "      <td>77.000000</td>\n",
       "      <td>1.000000</td>\n",
       "      <td>3.000000</td>\n",
       "      <td>200.000000</td>\n",
       "      <td>564.00000</td>\n",
       "      <td>1.000000</td>\n",
       "      <td>2.000000</td>\n",
       "      <td>202.000000</td>\n",
       "      <td>1.000000</td>\n",
       "      <td>6.200000</td>\n",
       "      <td>2.000000</td>\n",
       "      <td>4.000000</td>\n",
       "      <td>3.000000</td>\n",
       "      <td>1.000000</td>\n",
       "    </tr>\n",
       "  </tbody>\n",
       "</table>\n",
       "</div>"
      ],
      "text/plain": [
       "               age          sex           cp     trestbps        chol  \\\n",
       "count  1025.000000  1025.000000  1025.000000  1025.000000  1025.00000   \n",
       "mean     54.434146     0.695610     0.942439   131.611707   246.00000   \n",
       "std       9.072290     0.460373     1.029641    17.516718    51.59251   \n",
       "min      29.000000     0.000000     0.000000    94.000000   126.00000   \n",
       "25%      48.000000     0.000000     0.000000   120.000000   211.00000   \n",
       "50%      56.000000     1.000000     1.000000   130.000000   240.00000   \n",
       "75%      61.000000     1.000000     2.000000   140.000000   275.00000   \n",
       "max      77.000000     1.000000     3.000000   200.000000   564.00000   \n",
       "\n",
       "               fbs      restecg      thalach        exang      oldpeak  \\\n",
       "count  1025.000000  1025.000000  1025.000000  1025.000000  1025.000000   \n",
       "mean      0.149268     0.529756   149.114146     0.336585     1.071512   \n",
       "std       0.356527     0.527878    23.005724     0.472772     1.175053   \n",
       "min       0.000000     0.000000    71.000000     0.000000     0.000000   \n",
       "25%       0.000000     0.000000   132.000000     0.000000     0.000000   \n",
       "50%       0.000000     1.000000   152.000000     0.000000     0.800000   \n",
       "75%       0.000000     1.000000   166.000000     1.000000     1.800000   \n",
       "max       1.000000     2.000000   202.000000     1.000000     6.200000   \n",
       "\n",
       "             slope           ca         thal       target  \n",
       "count  1025.000000  1025.000000  1025.000000  1025.000000  \n",
       "mean      1.385366     0.754146     2.323902     0.513171  \n",
       "std       0.617755     1.030798     0.620660     0.500070  \n",
       "min       0.000000     0.000000     0.000000     0.000000  \n",
       "25%       1.000000     0.000000     2.000000     0.000000  \n",
       "50%       1.000000     0.000000     2.000000     1.000000  \n",
       "75%       2.000000     1.000000     3.000000     1.000000  \n",
       "max       2.000000     4.000000     3.000000     1.000000  "
      ]
     },
     "execution_count": 74,
     "metadata": {},
     "output_type": "execute_result"
    }
   ],
   "source": [
    "df.describe()"
   ]
  },
  {
   "cell_type": "code",
   "execution_count": 75,
   "metadata": {},
   "outputs": [
    {
     "name": "stdout",
     "output_type": "stream",
     "text": [
      "<class 'pandas.core.frame.DataFrame'>\n",
      "RangeIndex: 1025 entries, 0 to 1024\n",
      "Data columns (total 14 columns):\n",
      " #   Column    Non-Null Count  Dtype  \n",
      "---  ------    --------------  -----  \n",
      " 0   age       1025 non-null   int64  \n",
      " 1   sex       1025 non-null   int64  \n",
      " 2   cp        1025 non-null   int64  \n",
      " 3   trestbps  1025 non-null   int64  \n",
      " 4   chol      1025 non-null   int64  \n",
      " 5   fbs       1025 non-null   int64  \n",
      " 6   restecg   1025 non-null   int64  \n",
      " 7   thalach   1025 non-null   int64  \n",
      " 8   exang     1025 non-null   int64  \n",
      " 9   oldpeak   1025 non-null   float64\n",
      " 10  slope     1025 non-null   int64  \n",
      " 11  ca        1025 non-null   int64  \n",
      " 12  thal      1025 non-null   int64  \n",
      " 13  target    1025 non-null   int64  \n",
      "dtypes: float64(1), int64(13)\n",
      "memory usage: 112.2 KB\n"
     ]
    }
   ],
   "source": [
    "df.info()"
   ]
  },
  {
   "cell_type": "code",
   "execution_count": 76,
   "metadata": {},
   "outputs": [
    {
     "data": {
      "text/plain": [
       "((1025, 14), 1025)"
      ]
     },
     "execution_count": 76,
     "metadata": {},
     "output_type": "execute_result"
    }
   ],
   "source": [
    "df.shape, len(df)"
   ]
  },
  {
   "cell_type": "code",
   "execution_count": 77,
   "metadata": {},
   "outputs": [
    {
     "data": {
      "text/plain": [
       "age         0\n",
       "sex         0\n",
       "cp          0\n",
       "trestbps    0\n",
       "chol        0\n",
       "fbs         0\n",
       "restecg     0\n",
       "thalach     0\n",
       "exang       0\n",
       "oldpeak     0\n",
       "slope       0\n",
       "ca          0\n",
       "thal        0\n",
       "target      0\n",
       "dtype: int64"
      ]
     },
     "execution_count": 77,
     "metadata": {},
     "output_type": "execute_result"
    }
   ],
   "source": [
    "df.isna().sum()"
   ]
  },
  {
   "cell_type": "markdown",
   "metadata": {},
   "source": [
    "## Data Visuvalization"
   ]
  },
  {
   "cell_type": "code",
   "execution_count": 78,
   "metadata": {},
   "outputs": [
    {
     "data": {
      "text/html": [
       "<div>\n",
       "<style scoped>\n",
       "    .dataframe tbody tr th:only-of-type {\n",
       "        vertical-align: middle;\n",
       "    }\n",
       "\n",
       "    .dataframe tbody tr th {\n",
       "        vertical-align: top;\n",
       "    }\n",
       "\n",
       "    .dataframe thead th {\n",
       "        text-align: right;\n",
       "    }\n",
       "</style>\n",
       "<table border=\"1\" class=\"dataframe\">\n",
       "  <thead>\n",
       "    <tr style=\"text-align: right;\">\n",
       "      <th></th>\n",
       "      <th>age</th>\n",
       "      <th>sex</th>\n",
       "      <th>cp</th>\n",
       "      <th>trestbps</th>\n",
       "      <th>chol</th>\n",
       "      <th>fbs</th>\n",
       "      <th>restecg</th>\n",
       "      <th>thalach</th>\n",
       "      <th>exang</th>\n",
       "      <th>oldpeak</th>\n",
       "      <th>slope</th>\n",
       "      <th>ca</th>\n",
       "      <th>thal</th>\n",
       "      <th>target</th>\n",
       "    </tr>\n",
       "  </thead>\n",
       "  <tbody>\n",
       "    <tr>\n",
       "      <th>0</th>\n",
       "      <td>52</td>\n",
       "      <td>1</td>\n",
       "      <td>0</td>\n",
       "      <td>125</td>\n",
       "      <td>212</td>\n",
       "      <td>0</td>\n",
       "      <td>1</td>\n",
       "      <td>168</td>\n",
       "      <td>0</td>\n",
       "      <td>1.0</td>\n",
       "      <td>2</td>\n",
       "      <td>2</td>\n",
       "      <td>3</td>\n",
       "      <td>0</td>\n",
       "    </tr>\n",
       "    <tr>\n",
       "      <th>1</th>\n",
       "      <td>53</td>\n",
       "      <td>1</td>\n",
       "      <td>0</td>\n",
       "      <td>140</td>\n",
       "      <td>203</td>\n",
       "      <td>1</td>\n",
       "      <td>0</td>\n",
       "      <td>155</td>\n",
       "      <td>1</td>\n",
       "      <td>3.1</td>\n",
       "      <td>0</td>\n",
       "      <td>0</td>\n",
       "      <td>3</td>\n",
       "      <td>0</td>\n",
       "    </tr>\n",
       "    <tr>\n",
       "      <th>2</th>\n",
       "      <td>70</td>\n",
       "      <td>1</td>\n",
       "      <td>0</td>\n",
       "      <td>145</td>\n",
       "      <td>174</td>\n",
       "      <td>0</td>\n",
       "      <td>1</td>\n",
       "      <td>125</td>\n",
       "      <td>1</td>\n",
       "      <td>2.6</td>\n",
       "      <td>0</td>\n",
       "      <td>0</td>\n",
       "      <td>3</td>\n",
       "      <td>0</td>\n",
       "    </tr>\n",
       "    <tr>\n",
       "      <th>3</th>\n",
       "      <td>61</td>\n",
       "      <td>1</td>\n",
       "      <td>0</td>\n",
       "      <td>148</td>\n",
       "      <td>203</td>\n",
       "      <td>0</td>\n",
       "      <td>1</td>\n",
       "      <td>161</td>\n",
       "      <td>0</td>\n",
       "      <td>0.0</td>\n",
       "      <td>2</td>\n",
       "      <td>1</td>\n",
       "      <td>3</td>\n",
       "      <td>0</td>\n",
       "    </tr>\n",
       "    <tr>\n",
       "      <th>4</th>\n",
       "      <td>62</td>\n",
       "      <td>0</td>\n",
       "      <td>0</td>\n",
       "      <td>138</td>\n",
       "      <td>294</td>\n",
       "      <td>1</td>\n",
       "      <td>1</td>\n",
       "      <td>106</td>\n",
       "      <td>0</td>\n",
       "      <td>1.9</td>\n",
       "      <td>1</td>\n",
       "      <td>3</td>\n",
       "      <td>2</td>\n",
       "      <td>0</td>\n",
       "    </tr>\n",
       "  </tbody>\n",
       "</table>\n",
       "</div>"
      ],
      "text/plain": [
       "   age  sex  cp  trestbps  chol  fbs  restecg  thalach  exang  oldpeak  slope  \\\n",
       "0   52    1   0       125   212    0        1      168      0      1.0      2   \n",
       "1   53    1   0       140   203    1        0      155      1      3.1      0   \n",
       "2   70    1   0       145   174    0        1      125      1      2.6      0   \n",
       "3   61    1   0       148   203    0        1      161      0      0.0      2   \n",
       "4   62    0   0       138   294    1        1      106      0      1.9      1   \n",
       "\n",
       "   ca  thal  target  \n",
       "0   2     3       0  \n",
       "1   0     3       0  \n",
       "2   0     3       0  \n",
       "3   1     3       0  \n",
       "4   3     2       0  "
      ]
     },
     "execution_count": 78,
     "metadata": {},
     "output_type": "execute_result"
    }
   ],
   "source": [
    "df.head(5)"
   ]
  },
  {
   "cell_type": "code",
   "execution_count": 79,
   "metadata": {},
   "outputs": [
    {
     "data": {
      "text/plain": [
       "<AxesSubplot:xlabel='target', ylabel='count'>"
      ]
     },
     "execution_count": 79,
     "metadata": {},
     "output_type": "execute_result"
    },
    {
     "data": {
      "image/png": "[encoded data removed]",
      "text/plain": [
       "<Figure size 432x288 with 1 Axes>"
      ]
     },
     "metadata": {
      "needs_background": "light"
     },
     "output_type": "display_data"
    }
   ],
   "source": [
    "sns.countplot(x='target',hue='sex', data=df)"
   ]
  },
  {
   "cell_type": "code",
   "execution_count": 80,
   "metadata": {},
   "outputs": [
    {
     "data": {
      "text/plain": [
       "<AxesSubplot:xlabel='target', ylabel='age'>"
      ]
     },
     "execution_count": 80,
     "metadata": {},
     "output_type": "execute_result"
    },
    {
     "data": {
      "image/png": "[encoded data removed]",
      "text/plain": [
       "<Figure size 432x288 with 1 Axes>"
      ]
     },
     "metadata": {
      "needs_background": "light"
     },
     "output_type": "display_data"
    }
   ],
   "source": [
    "sns.barplot(x='target',y='age', data=df)"
   ]
  },
  {
   "cell_type": "code",
   "execution_count": 81,
   "metadata": {},
   "outputs": [
    {
     "data": {
      "text/plain": [
       "<AxesSubplot:xlabel='target', ylabel='chol'>"
      ]
     },
     "execution_count": 81,
     "metadata": {},
     "output_type": "execute_result"
    },
    {
     "data": {
      "image/png": "[encoded data removed]",
      "text/plain": [
       "<Figure size 432x288 with 1 Axes>"
      ]
     },
     "metadata": {
      "needs_background": "light"
     },
     "output_type": "display_data"
    }
   ],
   "source": [
    "sns.barplot(x='target',y='chol', data=df)"
   ]
  },
  {
   "cell_type": "code",
   "execution_count": 82,
   "metadata": {},
   "outputs": [
    {
     "data": {
      "text/plain": [
       "<AxesSubplot:xlabel='target', ylabel='trestbps'>"
      ]
     },
     "execution_count": 82,
     "metadata": {},
     "output_type": "execute_result"
    },
    {
     "data": {
      "image/png": "[encoded data removed]",
      "text/plain": [
       "<Figure size 432x288 with 1 Axes>"
      ]
     },
     "metadata": {
      "needs_background": "light"
     },
     "output_type": "display_data"
    }
   ],
   "source": [
    "sns.barplot(x='target',y='trestbps', data=df)"
   ]
  },
  {
   "cell_type": "code",
   "execution_count": 83,
   "metadata": {},
   "outputs": [
    {
     "data": {
      "text/plain": [
       "<seaborn.axisgrid.FacetGrid at 0x233e9157f70>"
      ]
     },
     "execution_count": 83,
     "metadata": {},
     "output_type": "execute_result"
    },
    {
     "data": {
      "image/png": "[encoded data removed]",
      "text/plain": [
       "<Figure size 360x360 with 1 Axes>"
      ]
     },
     "metadata": {
      "needs_background": "light"
     },
     "output_type": "display_data"
    }
   ],
   "source": [
    "sns.relplot(data=df, x=\"age\", y=\"chol\")"
   ]
  },
  {
   "cell_type": "code",
   "execution_count": 84,
   "metadata": {},
   "outputs": [
    {
     "data": {
      "text/plain": [
       "<seaborn.axisgrid.FacetGrid at 0x233e910f8b0>"
      ]
     },
     "execution_count": 84,
     "metadata": {},
     "output_type": "execute_result"
    },
    {
     "data": {
      "image/png": "[encoded data removed]",
      "text/plain": [
       "<Figure size 720x360 with 2 Axes>"
      ]
     },
     "metadata": {
      "needs_background": "light"
     },
     "output_type": "display_data"
    }
   ],
   "source": [
    "g = sns.relplot(data=df, x=\"age\", y=\"chol\", col=\"sex\")\n",
    "g.set_axis_labels(\"age\", \"chol\")\n"
   ]
  },
  {
   "cell_type": "code",
   "execution_count": 85,
   "metadata": {},
   "outputs": [
    {
     "data": {
      "text/plain": [
       "<seaborn.axisgrid.FacetGrid at 0x233e91af400>"
      ]
     },
     "execution_count": 85,
     "metadata": {},
     "output_type": "execute_result"
    },
    {
     "data": {
      "image/png": "[encoded data removed]",
      "text/plain": [
       "<Figure size 720x360 with 2 Axes>"
      ]
     },
     "metadata": {
      "needs_background": "light"
     },
     "output_type": "display_data"
    }
   ],
   "source": [
    "g = sns.relplot(data=df, x=\"age\", y=\"trestbps\", col=\"sex\")\n",
    "g.set_axis_labels(\"age\", \"trestbps\")"
   ]
  },
  {
   "cell_type": "code",
   "execution_count": 86,
   "metadata": {},
   "outputs": [
    {
     "data": {
      "text/plain": [
       "<seaborn.axisgrid.FacetGrid at 0x233e91cc3d0>"
      ]
     },
     "execution_count": 86,
     "metadata": {},
     "output_type": "execute_result"
    },
    {
     "data": {
      "image/png": "[encoded data removed]",
      "text/plain": [
       "<Figure size 1080x360 with 3 Axes>"
      ]
     },
     "metadata": {
      "needs_background": "light"
     },
     "output_type": "display_data"
    }
   ],
   "source": [
    "g = sns.relplot(data=df, x=\"age\", y=\"trestbps\", col=\"slope\")\n",
    "g.set_axis_labels(\"age\", \"trestbps\")"
   ]
  },
  {
   "cell_type": "code",
   "execution_count": 87,
   "metadata": {},
   "outputs": [
    {
     "data": {
      "text/plain": [
       "<seaborn.axisgrid.FacetGrid at 0x233e95d1160>"
      ]
     },
     "execution_count": 87,
     "metadata": {},
     "output_type": "execute_result"
    },
    {
     "data": {
      "image/png": "[encoded data removed]",
      "text/plain": [
       "<Figure size 720x360 with 2 Axes>"
      ]
     },
     "metadata": {
      "needs_background": "light"
     },
     "output_type": "display_data"
    }
   ],
   "source": [
    "g = sns.relplot(data=df, x=\"age\", y=\"chol\", col=\"fbs\")\n",
    "g.set_axis_labels(\"age\", \"chol\")"
   ]
  },
  {
   "cell_type": "markdown",
   "metadata": {},
   "source": [
    "## Linear regression"
   ]
  },
  {
   "cell_type": "code",
   "execution_count": 88,
   "metadata": {},
   "outputs": [
    {
     "data": {
      "text/plain": [
       "LinearRegression()"
      ]
     },
     "execution_count": 88,
     "metadata": {},
     "output_type": "execute_result"
    }
   ],
   "source": [
    "from sklearn.model_selection import train_test_split\n",
    "from sklearn.linear_model import LinearRegression\n",
    "\n",
    "X = df.drop('target', axis=1) # Create feature data\n",
    "Y = df['target'] # Create lebel data\n",
    "\n",
    "x_train, x_test, y_train, y_test = train_test_split(X,Y, test_size = 0.2) # split our data\n",
    "\n",
    "clf = LinearRegression() # choose model\n",
    "\n",
    "clf.fit(x_train, y_train) # Fit model"
   ]
  },
  {
   "cell_type": "code",
   "execution_count": 89,
   "metadata": {},
   "outputs": [
    {
     "data": {
      "text/plain": [
       "0.5288178241648952"
      ]
     },
     "execution_count": 89,
     "metadata": {},
     "output_type": "execute_result"
    }
   ],
   "source": [
    "clf.score(x_test, y_test)"
   ]
  },
  {
   "cell_type": "code",
   "execution_count": 93,
   "metadata": {},
   "outputs": [
    {
     "data": {
      "text/plain": [
       "array([ 0.88157754,  1.106022  ,  0.07757865,  0.65410032,  0.20379268,\n",
       "        0.89255596,  1.17696822,  0.24421165,  1.11331078,  0.49577863,\n",
       "        0.9313632 ,  0.14653286,  0.50652732,  0.68438298,  0.60955273,\n",
       "        0.76557533,  0.13279661,  0.58489083,  0.6608552 ,  0.29762936,\n",
       "       -0.14861103,  0.63494643,  0.98880684,  0.5234624 ,  0.57542761,\n",
       "        0.55015554,  0.44355749,  0.62870191,  1.01236222, -0.15579054,\n",
       "        0.44355749,  0.20039099,  0.590943  ,  0.14653286,  0.77296917,\n",
       "        0.22700912,  1.0217701 , -0.01094565,  0.46641625, -0.15579054,\n",
       "        0.78648544,  0.3321409 ,  0.61242872,  0.75710645,  0.81304004,\n",
       "        0.75591445,  0.33814838,  0.83516213,  0.14118144,  0.64564936,\n",
       "       -0.22459309, -0.04954757,  0.45165853,  0.33814838,  0.04360885,\n",
       "       -0.15579054,  0.19409914, -0.0970103 , -0.07101116,  0.18869231,\n",
       "        0.56043476,  1.26270929, -0.04306586,  0.80225638,  0.69439889,\n",
       "        1.06018932,  0.60298917,  0.43581876,  0.18869231,  0.38709913,\n",
       "       -0.2182788 ,  0.59177357,  0.69325059,  0.75710645,  0.69143385,\n",
       "        0.64024796,  0.2400862 ,  0.45165853,  0.75428553,  0.68705167,\n",
       "       -0.14275969,  0.74686634,  0.70228869, -0.26252948,  0.63092765,\n",
       "       -0.2155413 ,  0.60514919,  0.68438298,  0.19590169,  0.943427  ,\n",
       "       -0.01224582, -0.12044401,  1.17696822,  1.00770972,  0.58391145,\n",
       "        0.61065112,  0.04360885,  0.89187957, -0.11406162,  0.63651855,\n",
       "        0.07613477, -0.06768732,  0.85546676,  0.70228869,  0.1998871 ,\n",
       "        0.14275438,  1.18670733,  0.85978036,  0.80360207,  0.54675531,\n",
       "       -0.11406162,  0.92274818,  0.53905248,  1.106022  ,  0.88482225,\n",
       "        0.9313632 ,  0.22891187,  0.75554012,  0.07613477,  1.07271914,\n",
       "        0.02365825,  0.61065112,  0.91302696,  0.92797655,  0.61065112,\n",
       "        0.88964742,  0.64024462,  0.8792234 ,  0.03861112,  0.67278333,\n",
       "        0.24384516,  0.48998635,  0.20041248,  0.60955273,  0.93985922,\n",
       "        0.79971497,  0.49577863,  0.58609016,  1.18670733,  0.51915686,\n",
       "        0.82239445,  0.82511624,  0.68796314,  0.90989929,  0.31349489,\n",
       "        0.53285254,  0.79971497, -0.2182788 ,  1.11140902,  0.83969666,\n",
       "        0.82511624,  0.60531362,  0.1998871 ,  0.58545619,  0.53285254,\n",
       "        0.64166246,  0.76682093,  0.590943  ,  0.29762936, -0.01094565,\n",
       "        0.91302696,  0.38709913, -0.06768732,  0.89187957,  0.63972882,\n",
       "        0.62708388, -0.11406162,  0.83150854,  0.78818487,  0.33046894,\n",
       "        0.63054579,  0.69282501, -0.11406162,  1.26270929,  0.23713488,\n",
       "        0.64024796,  0.18869231,  0.68796314,  0.89255596,  0.19651492,\n",
       "        0.71441852,  0.21561039,  0.42256059, -0.08852304,  0.21390388,\n",
       "        0.89187957,  1.01116304,  0.71441852,  0.83516213,  0.07675524,\n",
       "        0.8792234 ,  0.21678612,  0.23713488,  1.0607321 ,  0.88531549,\n",
       "        0.71643954,  1.04950166,  0.67323098,  0.80360207,  0.50652732,\n",
       "        0.76748745,  0.19590169,  0.96288276,  0.97483973,  0.07081469])"
      ]
     },
     "execution_count": 93,
     "metadata": {},
     "output_type": "execute_result"
    }
   ],
   "source": [
    "y_pred = clf.predict(x_test)\n",
    "y_pred"
   ]
  },
  {
   "cell_type": "markdown",
   "metadata": {},
   "source": [
    "\n",
    "## Logistic Regression"
   ]
  },
  {
   "cell_type": "code",
   "execution_count": 112,
   "metadata": {},
   "outputs": [
    {
     "data": {
      "text/plain": [
       "LogisticRegression(max_iter=1000)"
      ]
     },
     "execution_count": 112,
     "metadata": {},
     "output_type": "execute_result"
    }
   ],
   "source": [
    "from sklearn.model_selection import train_test_split\n",
    "from sklearn.linear_model import LogisticRegression\n",
    "\n",
    "x = df.drop('target', axis=1) # Create feature data\n",
    "y = df['target'] # Create lebel data\n",
    "\n",
    "x_train, x_test, y_train, y_test = train_test_split(x,y, test_size = 0.2) # split our data\n",
    "\n",
    "model = LogisticRegression(max_iter=1000) # choose model\n",
    "\n",
    "model.fit(x_train, y_train) # Fit model"
   ]
  },
  {
   "cell_type": "code",
   "execution_count": 113,
   "metadata": {},
   "outputs": [
    {
     "data": {
      "text/plain": [
       "0.8341463414634146"
      ]
     },
     "execution_count": 113,
     "metadata": {},
     "output_type": "execute_result"
    }
   ],
   "source": [
    "model.score(x_test,y_test)"
   ]
  },
  {
   "cell_type": "code",
   "execution_count": 115,
   "metadata": {},
   "outputs": [
    {
     "data": {
      "text/plain": [
       "array([[3.18908945e-02, 9.68109106e-01],\n",
       "       [7.66834123e-02, 9.23316588e-01],\n",
       "       [3.86929171e-02, 9.61307083e-01],\n",
       "       [5.43428120e-02, 9.45657188e-01],\n",
       "       [5.54068305e-02, 9.44593170e-01],\n",
       "       [3.29125609e-02, 9.67087439e-01],\n",
       "       [2.15901813e-01, 7.84098187e-01],\n",
       "       [9.91102480e-01, 8.89752006e-03],\n",
       "       [2.69063489e-02, 9.73093651e-01],\n",
       "       [4.25303601e-01, 5.74696399e-01],\n",
       "       [2.37095879e-02, 9.76290412e-01],\n",
       "       [6.10404771e-01, 3.89595229e-01],\n",
       "       [8.86689368e-01, 1.13310632e-01],\n",
       "       [9.86003244e-01, 1.39967555e-02],\n",
       "       [9.42229302e-01, 5.77706982e-02],\n",
       "       [1.96405094e-02, 9.80359491e-01],\n",
       "       [3.87868956e-01, 6.12131044e-01],\n",
       "       [3.79702720e-02, 9.62029728e-01],\n",
       "       [9.54085325e-01, 4.59146751e-02],\n",
       "       [2.46520866e-01, 7.53479134e-01],\n",
       "       [1.86368460e-01, 8.13631540e-01],\n",
       "       [2.78741073e-01, 7.21258927e-01],\n",
       "       [5.18838473e-01, 4.81161527e-01],\n",
       "       [3.77340431e-01, 6.22659569e-01],\n",
       "       [2.69063489e-02, 9.73093651e-01],\n",
       "       [5.50776273e-01, 4.49223727e-01],\n",
       "       [9.95397687e-01, 4.60231285e-03],\n",
       "       [6.18551609e-02, 9.38144839e-01],\n",
       "       [9.99112699e-01, 8.87301000e-04],\n",
       "       [1.49996384e-01, 8.50003616e-01],\n",
       "       [9.37605687e-01, 6.23943127e-02],\n",
       "       [5.50387496e-02, 9.44961250e-01],\n",
       "       [9.73906230e-01, 2.60937703e-02],\n",
       "       [1.29278415e-01, 8.70721585e-01],\n",
       "       [2.35943554e-01, 7.64056446e-01],\n",
       "       [1.99489640e-02, 9.80051036e-01],\n",
       "       [1.69788231e-02, 9.83021177e-01],\n",
       "       [9.96304908e-01, 3.69509232e-03],\n",
       "       [9.81657657e-01, 1.83423426e-02],\n",
       "       [2.19400664e-01, 7.80599336e-01],\n",
       "       [9.86003244e-01, 1.39967555e-02],\n",
       "       [1.50268335e-01, 8.49731665e-01],\n",
       "       [5.86573163e-03, 9.94134268e-01],\n",
       "       [1.93591265e-02, 9.80640874e-01],\n",
       "       [4.32198395e-01, 5.67801605e-01],\n",
       "       [9.69753765e-01, 3.02462351e-02],\n",
       "       [3.35150885e-01, 6.64849115e-01],\n",
       "       [1.08644809e-01, 8.91355191e-01],\n",
       "       [3.86929171e-02, 9.61307083e-01],\n",
       "       [2.37844998e-01, 7.62155002e-01],\n",
       "       [9.72479527e-02, 9.02752047e-01],\n",
       "       [4.53619090e-03, 9.95463809e-01],\n",
       "       [3.87556004e-01, 6.12443996e-01],\n",
       "       [6.14151500e-01, 3.85848500e-01],\n",
       "       [2.42955015e-01, 7.57044985e-01],\n",
       "       [1.22029317e-01, 8.77970683e-01],\n",
       "       [2.88548608e-02, 9.71145139e-01],\n",
       "       [5.13833626e-01, 4.86166374e-01],\n",
       "       [9.56017596e-01, 4.39824036e-02],\n",
       "       [1.96841926e-01, 8.03158074e-01],\n",
       "       [4.62821706e-01, 5.37178294e-01],\n",
       "       [9.96276489e-01, 3.72351090e-03],\n",
       "       [7.08250538e-01, 2.91749462e-01],\n",
       "       [1.34405759e-01, 8.65594241e-01],\n",
       "       [2.32717428e-01, 7.67282572e-01],\n",
       "       [7.15304500e-03, 9.92846955e-01],\n",
       "       [9.45325698e-01, 5.46743024e-02],\n",
       "       [9.41138867e-03, 9.90588611e-01],\n",
       "       [2.21268207e-01, 7.78731793e-01],\n",
       "       [4.93138737e-01, 5.06861263e-01],\n",
       "       [3.67618852e-01, 6.32381148e-01],\n",
       "       [2.25882798e-01, 7.74117202e-01],\n",
       "       [4.28208496e-01, 5.71791504e-01],\n",
       "       [5.24628779e-01, 4.75371221e-01],\n",
       "       [4.52545505e-01, 5.47454495e-01],\n",
       "       [9.97173139e-01, 2.82686057e-03],\n",
       "       [2.43590259e-01, 7.56409741e-01],\n",
       "       [1.00191360e-02, 9.89980864e-01],\n",
       "       [9.94231802e-01, 5.76819810e-03],\n",
       "       [9.98648565e-01, 1.35143498e-03],\n",
       "       [8.73463640e-01, 1.26536360e-01],\n",
       "       [1.06810113e-01, 8.93189887e-01],\n",
       "       [7.57300686e-02, 9.24269931e-01],\n",
       "       [7.28894369e-03, 9.92711056e-01],\n",
       "       [7.08250538e-01, 2.91749462e-01],\n",
       "       [1.63401732e-01, 8.36598268e-01],\n",
       "       [4.93138737e-01, 5.06861263e-01],\n",
       "       [9.49289881e-01, 5.07101189e-02],\n",
       "       [9.94349330e-01, 5.65066985e-03],\n",
       "       [3.18908945e-02, 9.68109106e-01],\n",
       "       [2.06440693e-01, 7.93559307e-01],\n",
       "       [2.88548608e-02, 9.71145139e-01],\n",
       "       [2.15901813e-01, 7.84098187e-01],\n",
       "       [8.48854138e-01, 1.51145862e-01],\n",
       "       [9.13159823e-01, 8.68401769e-02],\n",
       "       [9.04450094e-02, 9.09554991e-01],\n",
       "       [1.02781842e-01, 8.97218158e-01],\n",
       "       [9.50941152e-01, 4.90588482e-02],\n",
       "       [4.24428873e-01, 5.75571127e-01],\n",
       "       [4.53619090e-03, 9.95463809e-01],\n",
       "       [5.71272753e-02, 9.42872725e-01],\n",
       "       [6.35604761e-02, 9.36439524e-01],\n",
       "       [9.90165558e-01, 9.83444241e-03],\n",
       "       [2.17254891e-01, 7.82745109e-01],\n",
       "       [9.34367833e-01, 6.56321671e-02],\n",
       "       [3.48878620e-01, 6.51121380e-01],\n",
       "       [8.89040629e-02, 9.11095937e-01],\n",
       "       [2.44828287e-01, 7.55171713e-01],\n",
       "       [4.31526961e-02, 9.56847304e-01],\n",
       "       [8.48336809e-01, 1.51663191e-01],\n",
       "       [9.36228482e-01, 6.37715183e-02],\n",
       "       [8.62024174e-01, 1.37975826e-01],\n",
       "       [9.97147370e-01, 2.85263044e-03],\n",
       "       [9.42229302e-01, 5.77706982e-02],\n",
       "       [6.89695880e-01, 3.10304120e-01],\n",
       "       [1.86477861e-01, 8.13522139e-01],\n",
       "       [3.87556004e-01, 6.12443996e-01],\n",
       "       [4.87825072e-02, 9.51217493e-01],\n",
       "       [2.44828287e-01, 7.55171713e-01],\n",
       "       [6.31230097e-01, 3.68769903e-01],\n",
       "       [8.99804324e-01, 1.00195676e-01],\n",
       "       [9.79869257e-01, 2.01307428e-02],\n",
       "       [1.54888905e-01, 8.45111095e-01],\n",
       "       [4.85959085e-01, 5.14040915e-01],\n",
       "       [3.42729951e-02, 9.65727005e-01],\n",
       "       [4.66472416e-01, 5.33527584e-01],\n",
       "       [9.66133637e-01, 3.38663635e-02],\n",
       "       [9.50941152e-01, 4.90588482e-02],\n",
       "       [2.06440693e-01, 7.93559307e-01],\n",
       "       [9.96276489e-01, 3.72351090e-03],\n",
       "       [4.17018411e-01, 5.82981589e-01],\n",
       "       [5.87645833e-01, 4.12354167e-01],\n",
       "       [5.14396008e-01, 4.85603992e-01],\n",
       "       [9.90165558e-01, 9.83444241e-03],\n",
       "       [9.96122196e-01, 3.87780408e-03],\n",
       "       [9.98321617e-01, 1.67838347e-03],\n",
       "       [1.06244404e-02, 9.89375560e-01],\n",
       "       [1.02781842e-01, 8.97218158e-01],\n",
       "       [4.84918531e-01, 5.15081469e-01],\n",
       "       [3.07219415e-01, 6.92780585e-01],\n",
       "       [8.01565422e-01, 1.98434578e-01],\n",
       "       [9.12809674e-01, 8.71903258e-02],\n",
       "       [9.79869257e-01, 2.01307428e-02],\n",
       "       [9.75176768e-01, 2.48232318e-02],\n",
       "       [8.04736221e-01, 1.95263779e-01],\n",
       "       [1.00644933e-01, 8.99355067e-01],\n",
       "       [5.36720942e-01, 4.63279058e-01],\n",
       "       [8.48854138e-01, 1.51145862e-01],\n",
       "       [4.55299828e-01, 5.44700172e-01],\n",
       "       [2.74721288e-01, 7.25278712e-01],\n",
       "       [9.54085325e-01, 4.59146751e-02],\n",
       "       [1.16095419e-01, 8.83904581e-01],\n",
       "       [9.88269777e-02, 9.01173022e-01],\n",
       "       [9.97868414e-01, 2.13158612e-03],\n",
       "       [5.86573163e-03, 9.94134268e-01],\n",
       "       [7.30209284e-01, 2.69790716e-01],\n",
       "       [2.32717428e-01, 7.67282572e-01],\n",
       "       [9.44907700e-01, 5.50923000e-02],\n",
       "       [9.96276489e-01, 3.72351090e-03],\n",
       "       [1.18660026e-01, 8.81339974e-01],\n",
       "       [9.27080782e-01, 7.29192176e-02],\n",
       "       [1.73226516e-01, 8.26773484e-01],\n",
       "       [2.74345491e-02, 9.72565451e-01],\n",
       "       [5.54068305e-02, 9.44593170e-01],\n",
       "       [3.11234480e-01, 6.88765520e-01],\n",
       "       [6.87342229e-02, 9.31265777e-01],\n",
       "       [9.31225004e-01, 6.87749960e-02],\n",
       "       [8.48854138e-01, 1.51145862e-01],\n",
       "       [1.50268335e-01, 8.49731665e-01],\n",
       "       [2.68926802e-01, 7.31073198e-01],\n",
       "       [4.24428873e-01, 5.75571127e-01],\n",
       "       [3.11009853e-02, 9.68899015e-01],\n",
       "       [1.63401732e-01, 8.36598268e-01],\n",
       "       [3.48878620e-01, 6.51121380e-01],\n",
       "       [9.36150788e-01, 6.38492118e-02],\n",
       "       [2.42955015e-01, 7.57044985e-01],\n",
       "       [3.61243340e-01, 6.38756660e-01],\n",
       "       [6.10404771e-01, 3.89595229e-01],\n",
       "       [9.90165558e-01, 9.83444241e-03],\n",
       "       [1.06810113e-01, 8.93189887e-01],\n",
       "       [3.72891170e-02, 9.62710883e-01],\n",
       "       [2.78741073e-01, 7.21258927e-01],\n",
       "       [9.34367833e-01, 6.56321671e-02],\n",
       "       [3.45356877e-01, 6.54643123e-01],\n",
       "       [2.78741073e-01, 7.21258927e-01],\n",
       "       [8.56589986e-01, 1.43410014e-01],\n",
       "       [9.48003527e-01, 5.19964726e-02],\n",
       "       [3.00146835e-01, 6.99853165e-01],\n",
       "       [3.42729951e-02, 9.65727005e-01],\n",
       "       [9.12809674e-01, 8.71903258e-02],\n",
       "       [2.35051062e-01, 7.64948938e-01],\n",
       "       [7.05759842e-01, 2.94240158e-01],\n",
       "       [9.73906230e-01, 2.60937703e-02],\n",
       "       [9.99112699e-01, 8.87301000e-04],\n",
       "       [9.94334432e-01, 5.66556796e-03],\n",
       "       [9.47752132e-01, 5.22478679e-02],\n",
       "       [5.54068305e-02, 9.44593170e-01],\n",
       "       [9.65843524e-01, 3.41564760e-02],\n",
       "       [9.44907700e-01, 5.50923000e-02],\n",
       "       [1.08644809e-01, 8.91355191e-01],\n",
       "       [9.90439358e-01, 9.56064208e-03],\n",
       "       [5.89697522e-01, 4.10302478e-01],\n",
       "       [4.45772199e-01, 5.54227801e-01],\n",
       "       [9.97173139e-01, 2.82686057e-03],\n",
       "       [5.86573163e-03, 9.94134268e-01]])"
      ]
     },
     "execution_count": 115,
     "metadata": {},
     "output_type": "execute_result"
    }
   ],
   "source": [
    "y_predi = model.predict_proba(x_test)\n",
    "y_predi"
   ]
  },
  {
   "cell_type": "code",
   "execution_count": null,
   "metadata": {},
   "outputs": [],
   "source": []
  },
  {
   "cell_type": "code",
   "execution_count": null,
   "metadata": {},
   "outputs": [],
   "source": []
  }
 ],
 "metadata": {
  "kernelspec": {
   "display_name": "Python 3",
   "language": "python",
   "name": "python3"
  },
  "language_info": {
   "codemirror_mode": {
    "name": "ipython",
    "version": 3
   },
   "file_extension": ".py",
   "mimetype": "text/x-python",
   "name": "python",
   "nbconvert_exporter": "python",
   "pygments_lexer": "ipython3",
   "version": "3.8.5"
  }
 },
 "nbformat": 4,
 "nbformat_minor": 4
}
